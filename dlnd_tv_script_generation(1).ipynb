{
 "cells": [
  {
   "cell_type": "markdown",
   "metadata": {
    "deletable": true,
    "editable": true
   },
   "source": [
    "# TV Script Generation\n",
    "In this project, you'll generate your own [Simpsons](https://en.wikipedia.org/wiki/The_Simpsons) TV scripts using RNNs.  You'll be using part of the [Simpsons dataset](https://www.kaggle.com/wcukierski/the-simpsons-by-the-data) of scripts from 27 seasons.  The Neural Network you'll build will generate a new TV script for a scene at [Moe's Tavern](https://simpsonswiki.com/wiki/Moe's_Tavern).\n",
    "## Get the Data\n",
    "The data is already provided for you.  You'll be using a subset of the original dataset.  It consists of only the scenes in Moe's Tavern.  This doesn't include other versions of the tavern, like \"Moe's Cavern\", \"Flaming Moe's\", \"Uncle Moe's Family Feed-Bag\", etc.."
   ]
  },
  {
   "cell_type": "code",
   "execution_count": 152,
   "metadata": {
    "collapsed": false,
    "deletable": true,
    "editable": true
   },
   "outputs": [],
   "source": [
    "\"\"\"\n",
    "DON'T MODIFY ANYTHING IN THIS CELL\n",
    "\"\"\"\n",
    "import helper\n",
    "\n",
    "data_dir = './data/simpsons/moes_tavern_lines.txt'\n",
    "text = helper.load_data(data_dir)\n",
    "# Ignore notice, since we don't use it for analysing the data\n",
    "text = text[81:]"
   ]
  },
  {
   "cell_type": "markdown",
   "metadata": {
    "deletable": true,
    "editable": true
   },
   "source": [
    "## Explore the Data\n",
    "Play around with `view_sentence_range` to view different parts of the data."
   ]
  },
  {
   "cell_type": "code",
   "execution_count": 153,
   "metadata": {
    "collapsed": false,
    "deletable": true,
    "editable": true
   },
   "outputs": [
    {
     "name": "stdout",
     "output_type": "stream",
     "text": [
      "Dataset Stats\n",
      "Roughly the number of unique words: 11492\n",
      "Number of scenes: 262\n",
      "Average number of sentences in each scene: 15.251908396946565\n",
      "Number of lines: 4258\n",
      "Average number of words in each line: 11.50164396430249\n",
      "\n",
      "The sentences 150 to 160:\n",
      "Homer_Simpson: For your information, I just made a cool twenty-five dollars playing the market. Buy low, sell high, that's my motto. I may just quit my job at the power plant to become a full-time stock market guy.\n",
      "Homer_Simpson: Have a Duff, boys!\n",
      "Hans: (GERMAN ACCENT, FRIENDLY) Oh, thank you. My English is not perfect, but I have to tell you your beer is like swill to us. Do I have that right? I am saying that only a swine would drink this beer.\n",
      "Fritz: (GERMAN ACCENT) Yeah, but thank you anyway.\n",
      "Homer_Simpson: Hey, you guys aren't from around here, are you?\n",
      "Hans: Ech, nein. We are from Germany. He is from the East. I am from the West.\n",
      "Fritz: I had a big company and he had a big company. Now we have a very big company.\n",
      "Hans: We are interested in buying the power plant. Do you think the owner would ever sell it?\n",
      "Homer_Simpson: (VERY CONFIDENT) Well, I happen to know that he won't sell it for less than 100 million dollars.\n",
      "Fritz: A hundred million?\n"
     ]
    }
   ],
   "source": [
    "view_sentence_range = (150, 160)\n",
    "\n",
    "\"\"\"\n",
    "DON'T MODIFY ANYTHING IN THIS CELL\n",
    "\"\"\"\n",
    "import numpy as np\n",
    "\n",
    "print('Dataset Stats')\n",
    "print('Roughly the number of unique words: {}'.format(len({word: None for word in text.split()})))\n",
    "scenes = text.split('\\n\\n')\n",
    "print('Number of scenes: {}'.format(len(scenes)))\n",
    "sentence_count_scene = [scene.count('\\n') for scene in scenes]\n",
    "print('Average number of sentences in each scene: {}'.format(np.average(sentence_count_scene)))\n",
    "\n",
    "sentences = [sentence for scene in scenes for sentence in scene.split('\\n')]\n",
    "print('Number of lines: {}'.format(len(sentences)))\n",
    "word_count_sentence = [len(sentence.split()) for sentence in sentences]\n",
    "print('Average number of words in each line: {}'.format(np.average(word_count_sentence)))\n",
    "\n",
    "print()\n",
    "print('The sentences {} to {}:'.format(*view_sentence_range))\n",
    "print('\\n'.join(text.split('\\n')[view_sentence_range[0]:view_sentence_range[1]]))"
   ]
  },
  {
   "cell_type": "markdown",
   "metadata": {
    "deletable": true,
    "editable": true
   },
   "source": [
    "## Implement Preprocessing Functions\n",
    "The first thing to do to any dataset is preprocessing.  Implement the following preprocessing functions below:\n",
    "- Lookup Table\n",
    "- Tokenize Punctuation\n",
    "\n",
    "### Lookup Table\n",
    "To create a word embedding, you first need to transform the words to ids.  In this function, create two dictionaries:\n",
    "- Dictionary to go from the words to an id, we'll call `vocab_to_int`\n",
    "- Dictionary to go from the id to word, we'll call `int_to_vocab`\n",
    "\n",
    "Return these dictionaries in the following tuple `(vocab_to_int, int_to_vocab)`"
   ]
  },
  {
   "cell_type": "code",
   "execution_count": 154,
   "metadata": {
    "collapsed": false,
    "deletable": true,
    "editable": true
   },
   "outputs": [
    {
     "name": "stdout",
     "output_type": "stream",
     "text": [
      "Tests Passed\n"
     ]
    }
   ],
   "source": [
    "import numpy as np\n",
    "import problem_unittests as tests\n",
    "from collections import Counter\n",
    "\n",
    "\n",
    "def create_lookup_tables(text):\n",
    "    \"\"\"\n",
    "    Create lookup tables for vocabulary\n",
    "    :param text: The text of tv scripts split into words\n",
    "    :return: A tuple of dicts (vocab_to_int, int_to_vocab)\n",
    "    \"\"\"\n",
    "    # TODO: Implement Function\n",
    "    #count and separate words\n",
    "    counts = Counter(text)\n",
    "    #sort words from most used to least\n",
    "    vocab = sorted(counts, key=counts.get, reverse=True)\n",
    "    \n",
    "    vocab_to_int = {text : i for i, text in enumerate(vocab)}\n",
    "    int_to_vocab = {i : text for i, text in enumerate(vocab)}\n",
    "    \n",
    "    \"\"\"\n",
    "    #declare int_to_vocab dict and reverse\n",
    "    int_to_vocab = {}\n",
    "    for each in vocab_to_int :\n",
    "        int_to_vocab[vocab_to_int[each]] = each\n",
    "    \"\"\"\n",
    "    \n",
    "    return (vocab_to_int, int_to_vocab)\n",
    "\n",
    "\n",
    "\"\"\"\n",
    "DON'T MODIFY ANYTHING IN THIS CELL THAT IS BELOW THIS LINE\n",
    "\"\"\"\n",
    "tests.test_create_lookup_tables(create_lookup_tables)"
   ]
  },
  {
   "cell_type": "markdown",
   "metadata": {
    "deletable": true,
    "editable": true
   },
   "source": [
    "### Tokenize Punctuation\n",
    "We'll be splitting the script into a word array using spaces as delimiters.  However, punctuations like periods and exclamation marks make it hard for the neural network to distinguish between the word \"bye\" and \"bye!\".\n",
    "\n",
    "Implement the function `token_lookup` to return a dict that will be used to tokenize symbols like \"!\" into \"||Exclamation_Mark||\".  Create a dictionary for the following symbols where the symbol is the key and value is the token:\n",
    "- Period ( . )\n",
    "- Comma ( , )\n",
    "- Quotation Mark ( \" )\n",
    "- Semicolon ( ; )\n",
    "- Exclamation mark ( ! )\n",
    "- Question mark ( ? )\n",
    "- Left Parentheses ( ( )\n",
    "- Right Parentheses ( ) )\n",
    "- Dash ( -- )\n",
    "- Return ( \\n )\n",
    "\n",
    "This dictionary will be used to token the symbols and add the delimiter (space) around it.  This separates the symbols as it's own word, making it easier for the neural network to predict on the next word. Make sure you don't use a token that could be confused as a word. Instead of using the token \"dash\", try using something like \"||dash||\"."
   ]
  },
  {
   "cell_type": "code",
   "execution_count": 155,
   "metadata": {
    "collapsed": false,
    "deletable": true,
    "editable": true
   },
   "outputs": [
    {
     "name": "stdout",
     "output_type": "stream",
     "text": [
      "Tests Passed\n"
     ]
    }
   ],
   "source": [
    "def token_lookup():\n",
    "    \"\"\"\n",
    "    Generate a dict to turn punctuation into a token.\n",
    "    :return: Tokenize dictionary where the key is the punctuation and the value is the token\n",
    "    \"\"\"\n",
    "    # TODO: Implement Function\n",
    "    token_lookup_dict = {}\n",
    "    token_lookup_dict['.'] = '||Period||'\n",
    "    token_lookup_dict[','] = '||Comma||'\n",
    "    token_lookup_dict['\"'] = '||Quotation_Mark||'\n",
    "    token_lookup_dict[';'] = '||Semicolon||'\n",
    "    token_lookup_dict['!'] = '||Exclamation_Mark||'\n",
    "    token_lookup_dict['?'] = '||Question_Mark||'\n",
    "    token_lookup_dict['('] = '||Left_Parenthesis||'\n",
    "    token_lookup_dict[')'] = '||Right_Parenthesis||'\n",
    "    token_lookup_dict['--'] = '||Dash||'\n",
    "    token_lookup_dict['\\n'] = '||Newline||'\n",
    "\n",
    "    return token_lookup_dict\n",
    "\n",
    "\"\"\"\n",
    "DON'T MODIFY ANYTHING IN THIS CELL THAT IS BELOW THIS LINE\n",
    "\"\"\"\n",
    "tests.test_tokenize(token_lookup)"
   ]
  },
  {
   "cell_type": "markdown",
   "metadata": {
    "deletable": true,
    "editable": true
   },
   "source": [
    "## Preprocess all the data and save it\n",
    "Running the code cell below will preprocess all the data and save it to file."
   ]
  },
  {
   "cell_type": "code",
   "execution_count": 156,
   "metadata": {
    "collapsed": false,
    "deletable": true,
    "editable": true
   },
   "outputs": [],
   "source": [
    "\"\"\"\n",
    "DON'T MODIFY ANYTHING IN THIS CELL\n",
    "\"\"\"\n",
    "# Preprocess Training, Validation, and Testing Data\n",
    "helper.preprocess_and_save_data(data_dir, token_lookup, create_lookup_tables)"
   ]
  },
  {
   "cell_type": "markdown",
   "metadata": {
    "deletable": true,
    "editable": true
   },
   "source": [
    "# Check Point\n",
    "This is your first checkpoint. If you ever decide to come back to this notebook or have to restart the notebook, you can start from here. The preprocessed data has been saved to disk."
   ]
  },
  {
   "cell_type": "code",
   "execution_count": 157,
   "metadata": {
    "collapsed": false,
    "deletable": true,
    "editable": true
   },
   "outputs": [],
   "source": [
    "\"\"\"\n",
    "DON'T MODIFY ANYTHING IN THIS CELL\n",
    "\"\"\"\n",
    "import helper\n",
    "import numpy as np\n",
    "import problem_unittests as tests\n",
    "\n",
    "int_text, vocab_to_int, int_to_vocab, token_dict = helper.load_preprocess()"
   ]
  },
  {
   "cell_type": "markdown",
   "metadata": {
    "deletable": true,
    "editable": true
   },
   "source": [
    "## Build the Neural Network\n",
    "You'll build the components necessary to build a RNN by implementing the following functions below:\n",
    "- get_inputs\n",
    "- get_init_cell\n",
    "- get_embed\n",
    "- build_rnn\n",
    "- build_nn\n",
    "- get_batches\n",
    "\n",
    "### Check the Version of TensorFlow and Access to GPU"
   ]
  },
  {
   "cell_type": "code",
   "execution_count": 158,
   "metadata": {
    "collapsed": false,
    "deletable": true,
    "editable": true
   },
   "outputs": [
    {
     "name": "stdout",
     "output_type": "stream",
     "text": [
      "TensorFlow Version: 1.0.1\n",
      "Default GPU Device: /gpu:0\n"
     ]
    }
   ],
   "source": [
    "\"\"\"\n",
    "DON'T MODIFY ANYTHING IN THIS CELL\n",
    "\"\"\"\n",
    "from distutils.version import LooseVersion\n",
    "import warnings\n",
    "import tensorflow as tf\n",
    "\n",
    "# Check TensorFlow Version\n",
    "assert LooseVersion(tf.__version__) >= LooseVersion('1.0'), 'Please use TensorFlow version 1.0 or newer'\n",
    "print('TensorFlow Version: {}'.format(tf.__version__))\n",
    "\n",
    "# Check for a GPU\n",
    "if not tf.test.gpu_device_name():\n",
    "    warnings.warn('No GPU found. Please use a GPU to train your neural network.')\n",
    "else:\n",
    "    print('Default GPU Device: {}'.format(tf.test.gpu_device_name()))"
   ]
  },
  {
   "cell_type": "markdown",
   "metadata": {
    "deletable": true,
    "editable": true
   },
   "source": [
    "### Input\n",
    "Implement the `get_inputs()` function to create TF Placeholders for the Neural Network.  It should create the following placeholders:\n",
    "- Input text placeholder named \"input\" using the [TF Placeholder](https://www.tensorflow.org/api_docs/python/tf/placeholder) `name` parameter.\n",
    "- Targets placeholder\n",
    "- Learning Rate placeholder\n",
    "\n",
    "Return the placeholders in the following tuple `(Input, Targets, LearningRate)`"
   ]
  },
  {
   "cell_type": "code",
   "execution_count": 159,
   "metadata": {
    "collapsed": false,
    "deletable": true,
    "editable": true
   },
   "outputs": [
    {
     "name": "stdout",
     "output_type": "stream",
     "text": [
      "Tests Passed\n"
     ]
    }
   ],
   "source": [
    "def get_inputs():\n",
    "    \"\"\"\n",
    "    Create TF Placeholders for input, targets, and learning rate.\n",
    "    :return: Tuple (input, targets, learning rate)\n",
    "    \"\"\"\n",
    "    # TODO: Implement Function\n",
    "    Input = tf.placeholder(tf.int32, [None, None], name='input')    \n",
    "    Targets = tf.placeholder(tf.int32, [None, None], name='targets')\n",
    "    LearningRate = tf.placeholder(tf.float32, name='learning_rate')    \n",
    "    return (Input, Targets, LearningRate)\n",
    "\n",
    "\n",
    "\"\"\"\n",
    "DON'T MODIFY ANYTHING IN THIS CELL THAT IS BELOW THIS LINE\n",
    "\"\"\"\n",
    "tests.test_get_inputs(get_inputs)"
   ]
  },
  {
   "cell_type": "markdown",
   "metadata": {
    "deletable": true,
    "editable": true
   },
   "source": [
    "### Build RNN Cell and Initialize\n",
    "Stack one or more [`BasicLSTMCells`](https://www.tensorflow.org/api_docs/python/tf/contrib/rnn/BasicLSTMCell) in a [`MultiRNNCell`](https://www.tensorflow.org/api_docs/python/tf/contrib/rnn/MultiRNNCell).\n",
    "- The Rnn size should be set using `rnn_size`\n",
    "- Initalize Cell State using the MultiRNNCell's [`zero_state()`](https://www.tensorflow.org/api_docs/python/tf/contrib/rnn/MultiRNNCell#zero_state) function\n",
    "    - Apply the name \"initial_state\" to the initial state using [`tf.identity()`](https://www.tensorflow.org/api_docs/python/tf/identity)\n",
    "\n",
    "Return the cell and initial state in the following tuple `(Cell, InitialState)`"
   ]
  },
  {
   "cell_type": "code",
   "execution_count": 160,
   "metadata": {
    "collapsed": false,
    "deletable": true,
    "editable": true
   },
   "outputs": [
    {
     "name": "stdout",
     "output_type": "stream",
     "text": [
      "Tests Passed\n"
     ]
    }
   ],
   "source": [
    "def get_init_cell(batch_size, rnn_size):\n",
    "    \"\"\"\n",
    "    Create an RNN Cell and initialize it.\n",
    "    :param batch_size: Size of batches\n",
    "    :param rnn_size: Size of RNNs\n",
    "    :return: Tuple (cell, initialize state)\n",
    "    \"\"\"\n",
    "    # TODO: Implement Function\n",
    "    #basic LSTM cell\n",
    "    lstm = tf.contrib.rnn.BasicLSTMCell(rnn_size)\n",
    "    \n",
    "    #dropout\n",
    "    drop = tf.contrib.rnn.DropoutWrapper(lstm, output_keep_prob = 1.0)\n",
    "    \n",
    "    #cell = tf.contrib.rnn.MultiRNNCell([drop] * rnn_size)\n",
    "    cell = tf.contrib.rnn.MultiRNNCell([drop])\n",
    "    \n",
    "    initial_state = tf.identity( cell.zero_state(batch_size, tf.float32), name='initial_state' )\n",
    "    \n",
    "        \n",
    "    return (cell, initial_state)\n",
    "\n",
    "\n",
    "\n",
    "\"\"\"\n",
    "DON'T MODIFY ANYTHING IN THIS CELL THAT IS BELOW THIS LINE\n",
    "\"\"\"\n",
    "tests.test_get_init_cell(get_init_cell)"
   ]
  },
  {
   "cell_type": "markdown",
   "metadata": {
    "deletable": true,
    "editable": true
   },
   "source": [
    "### Word Embedding\n",
    "Apply embedding to `input_data` using TensorFlow.  Return the embedded sequence."
   ]
  },
  {
   "cell_type": "code",
   "execution_count": 161,
   "metadata": {
    "collapsed": false,
    "deletable": true,
    "editable": true
   },
   "outputs": [
    {
     "name": "stdout",
     "output_type": "stream",
     "text": [
      "Tests Passed\n"
     ]
    }
   ],
   "source": [
    "def get_embed(input_data, vocab_size, embed_dim):\n",
    "    \"\"\"\n",
    "    Create embedding for <input_data>.\n",
    "    :param input_data: TF placeholder for text input.\n",
    "    :param vocab_size: Number of words in vocabulary.\n",
    "    :param embed_dim: Number of embedding dimensions\n",
    "    :return: Embedded input.\n",
    "    \"\"\"\n",
    "    # TODO: Implement Function\n",
    "    embedding = tf.Variable(tf.random_uniform( (vocab_size, embed_dim), -1, 1))\n",
    "    embed = tf.nn.embedding_lookup(embedding, input_data)\n",
    "    \n",
    "    return embed\n",
    "\n",
    "\n",
    "\n",
    "\"\"\"\n",
    "DON'T MODIFY ANYTHING IN THIS CELL THAT IS BELOW THIS LINE\n",
    "\"\"\"\n",
    "tests.test_get_embed(get_embed)"
   ]
  },
  {
   "cell_type": "markdown",
   "metadata": {
    "deletable": true,
    "editable": true
   },
   "source": [
    "### Build RNN\n",
    "You created a RNN Cell in the `get_init_cell()` function.  Time to use the cell to create a RNN.\n",
    "- Build the RNN using the [`tf.nn.dynamic_rnn()`](https://www.tensorflow.org/api_docs/python/tf/nn/dynamic_rnn)\n",
    " - Apply the name \"final_state\" to the final state using [`tf.identity()`](https://www.tensorflow.org/api_docs/python/tf/identity)\n",
    "\n",
    "Return the outputs and final_state state in the following tuple `(Outputs, FinalState)` "
   ]
  },
  {
   "cell_type": "code",
   "execution_count": 162,
   "metadata": {
    "collapsed": false,
    "deletable": true,
    "editable": true
   },
   "outputs": [
    {
     "name": "stdout",
     "output_type": "stream",
     "text": [
      "Tests Passed\n"
     ]
    }
   ],
   "source": [
    "def build_rnn(cell, inputs):\n",
    "    \"\"\"\n",
    "    Create a RNN using a RNN Cell\n",
    "    :param cell: RNN Cell\n",
    "    :param inputs: Input text data\n",
    "    :return: Tuple (Outputs, Final State)\n",
    "    \"\"\"\n",
    "    # TODO: Implement Function\n",
    "    \n",
    "    outputs, final_state = tf.nn.dynamic_rnn(cell, inputs, dtype=tf.float32)\n",
    "    final_state = tf.identity(final_state, name='final_state')\n",
    "    \n",
    "    \n",
    "    return (outputs, final_state)\n",
    "\n",
    "\n",
    "\n",
    "\n",
    "\"\"\"\n",
    "DON'T MODIFY ANYTHING IN THIS CELL THAT IS BELOW THIS LINE\n",
    "\"\"\"\n",
    "tests.test_build_rnn(build_rnn)"
   ]
  },
  {
   "cell_type": "markdown",
   "metadata": {
    "deletable": true,
    "editable": true
   },
   "source": [
    "### Build the Neural Network\n",
    "Apply the functions you implemented above to:\n",
    "- Apply embedding to `input_data` using your `get_embed(input_data, vocab_size, embed_dim)` function.\n",
    "- Build RNN using `cell` and your `build_rnn(cell, inputs)` function.\n",
    "- Apply a fully connected layer with a linear activation and `vocab_size` as the number of outputs.\n",
    "\n",
    "Return the logits and final state in the following tuple (Logits, FinalState) "
   ]
  },
  {
   "cell_type": "code",
   "execution_count": 163,
   "metadata": {
    "collapsed": false,
    "deletable": true,
    "editable": true
   },
   "outputs": [
    {
     "name": "stdout",
     "output_type": "stream",
     "text": [
      "Tests Passed\n"
     ]
    }
   ],
   "source": [
    "def build_nn(cell, rnn_size, input_data, vocab_size, embed_dim):\n",
    "    \"\"\"\n",
    "    Build part of the neural network\n",
    "    :param cell: RNN cell\n",
    "    :param rnn_size: Size of rnns\n",
    "    :param input_data: Input data\n",
    "    :param vocab_size: Vocabulary size\n",
    "    :param embed_dim: Number of embedding dimensions\n",
    "    :return: Tuple (Logits, FinalState)\n",
    "    \"\"\"\n",
    "    # TODO: Implement Function\n",
    "    embed = get_embed(input_data, vocab_size, embed_dim)\n",
    "    outputs, finalstate = build_rnn(cell, embed)\n",
    "    logits = tf.contrib.layers.fully_connected(outputs, vocab_size, \n",
    "                                               weights_initializer = tf.truncated_normal_initializer(stddev=0.01),\n",
    "                                               biases_initializer = tf.zeros_initializer(),\n",
    "                                               activation_fn=None)\n",
    "    \n",
    "    \n",
    "    return (logits, finalstate)\n",
    "\n",
    "\n",
    "\"\"\"\n",
    "DON'T MODIFY ANYTHING IN THIS CELL THAT IS BELOW THIS LINE\n",
    "\"\"\"\n",
    "tests.test_build_nn(build_nn)"
   ]
  },
  {
   "cell_type": "markdown",
   "metadata": {
    "deletable": true,
    "editable": true
   },
   "source": [
    "### Batches\n",
    "Implement `get_batches` to create batches of input and targets using `int_text`.  The batches should be a Numpy array with the shape `(number of batches, 2, batch size, sequence length)`. Each batch contains two elements:\n",
    "- The first element is a single batch of **input** with the shape `[batch size, sequence length]`\n",
    "- The second element is a single batch of **targets** with the shape `[batch size, sequence length]`\n",
    "\n",
    "If you can't fill the last batch with enough data, drop the last batch.\n",
    "\n",
    "For exmple, `get_batches([1, 2, 3, 4, 5, 6, 7, 8, 9, 10, 11, 12, 13, 14, 15, 16, 17, 18, 19, 20], 3, 2)` would return a Numpy array of the following:\n",
    "```\n",
    "[\n",
    "  # First Batch\n",
    "  [\n",
    "    # Batch of Input\n",
    "    [[ 1  2], [ 7  8], [13 14]]\n",
    "    # Batch of targets\n",
    "    [[ 2  3], [ 8  9], [14 15]]\n",
    "  ]\n",
    "\n",
    "  # Second Batch\n",
    "  [\n",
    "    # Batch of Input\n",
    "    [[ 3  4], [ 9 10], [15 16]]\n",
    "    # Batch of targets\n",
    "    [[ 4  5], [10 11], [16 17]]\n",
    "  ]\n",
    "\n",
    "  # Third Batch\n",
    "  [\n",
    "    # Batch of Input\n",
    "    [[ 5  6], [11 12], [17 18]]\n",
    "    # Batch of targets\n",
    "    [[ 6  7], [12 13], [18  1]]\n",
    "  ]\n",
    "]\n",
    "```\n",
    "\n",
    "Notice that the last target value in the last batch is the first input value of the first batch. In this case, `1`. This is a common technique used when creating sequence batches, although it is rather unintuitive."
   ]
  },
  {
   "cell_type": "code",
   "execution_count": 164,
   "metadata": {
    "collapsed": false,
    "deletable": true,
    "editable": true
   },
   "outputs": [
    {
     "name": "stdout",
     "output_type": "stream",
     "text": [
      "Tests Passed\n"
     ]
    }
   ],
   "source": [
    "def get_batches(int_text, batch_size, seq_length):\n",
    "    \"\"\"\n",
    "    Return batches of input and target\n",
    "    :param int_text: Text with the words replaced by their ids\n",
    "    :param batch_size: The size of batch\n",
    "    :param seq_length: The length of sequence\n",
    "    :return: Batches as a Numpy array\n",
    "    \"\"\"\n",
    "    # TODO: Implement Function\n",
    "    n_batches = len(int_text) // (batch_size * seq_length)\n",
    "\n",
    "    x = np.array(int_text[: n_batches * batch_size * seq_length])\n",
    "    y = np.array(int_text[1: n_batches * batch_size * seq_length + 1])\n",
    "    y[-1] = x[0]\n",
    "\n",
    "    xx = np.split(x.reshape(batch_size, -1), n_batches, 1)\n",
    "    yy = np.split(y.reshape(batch_size, -1), n_batches, 1)\n",
    "\n",
    "    return np.array(list(zip(xx, yy)))\n",
    "\n",
    "\n",
    "\"\"\"\n",
    "DON'T MODIFY ANYTHING IN THIS CELL THAT IS BELOW THIS LINE\n",
    "\"\"\"\n",
    "tests.test_get_batches(get_batches)"
   ]
  },
  {
   "cell_type": "markdown",
   "metadata": {
    "deletable": true,
    "editable": true
   },
   "source": [
    "## Neural Network Training\n",
    "### Hyperparameters\n",
    "Tune the following parameters:\n",
    "\n",
    "- Set `num_epochs` to the number of epochs.\n",
    "- Set `batch_size` to the batch size.\n",
    "- Set `rnn_size` to the size of the RNNs.\n",
    "- Set `embed_dim` to the size of the embedding.\n",
    "- Set `seq_length` to the length of sequence.\n",
    "- Set `learning_rate` to the learning rate.\n",
    "- Set `show_every_n_batches` to the number of batches the neural network should print progress."
   ]
  },
  {
   "cell_type": "code",
   "execution_count": 165,
   "metadata": {
    "collapsed": true,
    "deletable": true,
    "editable": true
   },
   "outputs": [],
   "source": [
    "# Number of Epochs\n",
    "num_epochs = 100\n",
    "# Batch Size\n",
    "batch_size = 32\n",
    "# RNN Size\n",
    "rnn_size = 256\n",
    "# Embedding Dimension Size\n",
    "embed_dim = 300\n",
    "# Sequence Length\n",
    "seq_length = 16\n",
    "# Learning Rate\n",
    "learning_rate = 0.01\n",
    "# Show stats for every n number of batches\n",
    "show_every_n_batches = 50\n",
    "\n",
    "\"\"\"\n",
    "DON'T MODIFY ANYTHING IN THIS CELL THAT IS BELOW THIS LINE\n",
    "\"\"\"\n",
    "save_dir = './save'"
   ]
  },
  {
   "cell_type": "markdown",
   "metadata": {
    "deletable": true,
    "editable": true
   },
   "source": [
    "### Build the Graph\n",
    "Build the graph using the neural network you implemented."
   ]
  },
  {
   "cell_type": "code",
   "execution_count": 166,
   "metadata": {
    "collapsed": false,
    "deletable": true,
    "editable": true
   },
   "outputs": [],
   "source": [
    "\"\"\"\n",
    "DON'T MODIFY ANYTHING IN THIS CELL\n",
    "\"\"\"\n",
    "from tensorflow.contrib import seq2seq\n",
    "\n",
    "train_graph = tf.Graph()\n",
    "with train_graph.as_default():\n",
    "    vocab_size = len(int_to_vocab)\n",
    "    input_text, targets, lr = get_inputs()\n",
    "    input_data_shape = tf.shape(input_text)\n",
    "    cell, initial_state = get_init_cell(input_data_shape[0], rnn_size)\n",
    "    logits, final_state = build_nn(cell, rnn_size, input_text, vocab_size, embed_dim)\n",
    "\n",
    "    # Probabilities for generating words\n",
    "    probs = tf.nn.softmax(logits, name='probs')\n",
    "\n",
    "    # Loss function\n",
    "    cost = seq2seq.sequence_loss(\n",
    "        logits,\n",
    "        targets,\n",
    "        tf.ones([input_data_shape[0], input_data_shape[1]]))\n",
    "\n",
    "    # Optimizer\n",
    "    optimizer = tf.train.AdamOptimizer(lr)\n",
    "\n",
    "    # Gradient Clipping\n",
    "    gradients = optimizer.compute_gradients(cost)\n",
    "    capped_gradients = [(tf.clip_by_value(grad, -1., 1.), var) for grad, var in gradients if grad is not None]\n",
    "    train_op = optimizer.apply_gradients(capped_gradients)"
   ]
  },
  {
   "cell_type": "markdown",
   "metadata": {
    "deletable": true,
    "editable": true
   },
   "source": [
    "## Train\n",
    "Train the neural network on the preprocessed data.  If you have a hard time getting a good loss, check the [forms](https://discussions.udacity.com/) to see if anyone is having the same problem."
   ]
  },
  {
   "cell_type": "code",
   "execution_count": 167,
   "metadata": {
    "collapsed": false,
    "deletable": true,
    "editable": true
   },
   "outputs": [
    {
     "name": "stdout",
     "output_type": "stream",
     "text": [
      "Epoch   0 Batch    0/134   train_loss = 8.821\n",
      "Epoch   0 Batch   50/134   train_loss = 5.324\n",
      "Epoch   0 Batch  100/134   train_loss = 5.256\n",
      "Epoch   1 Batch   16/134   train_loss = 4.611\n",
      "Epoch   1 Batch   66/134   train_loss = 4.139\n",
      "Epoch   1 Batch  116/134   train_loss = 4.154\n",
      "Epoch   2 Batch   32/134   train_loss = 3.865\n",
      "Epoch   2 Batch   82/134   train_loss = 3.798\n",
      "Epoch   2 Batch  132/134   train_loss = 3.386\n",
      "Epoch   3 Batch   48/134   train_loss = 3.481\n",
      "Epoch   3 Batch   98/134   train_loss = 3.262\n",
      "Epoch   4 Batch   14/134   train_loss = 3.050\n",
      "Epoch   4 Batch   64/134   train_loss = 3.051\n",
      "Epoch   4 Batch  114/134   train_loss = 2.937\n",
      "Epoch   5 Batch   30/134   train_loss = 2.819\n",
      "Epoch   5 Batch   80/134   train_loss = 2.581\n",
      "Epoch   5 Batch  130/134   train_loss = 2.515\n",
      "Epoch   6 Batch   46/134   train_loss = 2.370\n",
      "Epoch   6 Batch   96/134   train_loss = 2.589\n",
      "Epoch   7 Batch   12/134   train_loss = 2.304\n",
      "Epoch   7 Batch   62/134   train_loss = 2.258\n",
      "Epoch   7 Batch  112/134   train_loss = 2.209\n",
      "Epoch   8 Batch   28/134   train_loss = 2.170\n",
      "Epoch   8 Batch   78/134   train_loss = 2.103\n",
      "Epoch   8 Batch  128/134   train_loss = 2.000\n",
      "Epoch   9 Batch   44/134   train_loss = 1.781\n",
      "Epoch   9 Batch   94/134   train_loss = 1.974\n",
      "Epoch  10 Batch   10/134   train_loss = 1.870\n",
      "Epoch  10 Batch   60/134   train_loss = 1.833\n",
      "Epoch  10 Batch  110/134   train_loss = 1.714\n",
      "Epoch  11 Batch   26/134   train_loss = 1.627\n",
      "Epoch  11 Batch   76/134   train_loss = 1.671\n",
      "Epoch  11 Batch  126/134   train_loss = 1.793\n",
      "Epoch  12 Batch   42/134   train_loss = 1.385\n",
      "Epoch  12 Batch   92/134   train_loss = 1.513\n",
      "Epoch  13 Batch    8/134   train_loss = 1.513\n",
      "Epoch  13 Batch   58/134   train_loss = 1.354\n",
      "Epoch  13 Batch  108/134   train_loss = 1.542\n",
      "Epoch  14 Batch   24/134   train_loss = 1.538\n",
      "Epoch  14 Batch   74/134   train_loss = 1.387\n",
      "Epoch  14 Batch  124/134   train_loss = 1.283\n",
      "Epoch  15 Batch   40/134   train_loss = 1.352\n",
      "Epoch  15 Batch   90/134   train_loss = 1.353\n",
      "Epoch  16 Batch    6/134   train_loss = 1.297\n",
      "Epoch  16 Batch   56/134   train_loss = 1.226\n",
      "Epoch  16 Batch  106/134   train_loss = 1.362\n",
      "Epoch  17 Batch   22/134   train_loss = 1.350\n",
      "Epoch  17 Batch   72/134   train_loss = 1.185\n",
      "Epoch  17 Batch  122/134   train_loss = 1.281\n",
      "Epoch  18 Batch   38/134   train_loss = 1.084\n",
      "Epoch  18 Batch   88/134   train_loss = 1.221\n",
      "Epoch  19 Batch    4/134   train_loss = 1.097\n",
      "Epoch  19 Batch   54/134   train_loss = 1.147\n",
      "Epoch  19 Batch  104/134   train_loss = 1.082\n",
      "Epoch  20 Batch   20/134   train_loss = 1.250\n",
      "Epoch  20 Batch   70/134   train_loss = 1.135\n",
      "Epoch  20 Batch  120/134   train_loss = 1.065\n",
      "Epoch  21 Batch   36/134   train_loss = 1.109\n",
      "Epoch  21 Batch   86/134   train_loss = 1.063\n",
      "Epoch  22 Batch    2/134   train_loss = 1.068\n",
      "Epoch  22 Batch   52/134   train_loss = 1.056\n",
      "Epoch  22 Batch  102/134   train_loss = 1.096\n",
      "Epoch  23 Batch   18/134   train_loss = 1.036\n",
      "Epoch  23 Batch   68/134   train_loss = 1.075\n",
      "Epoch  23 Batch  118/134   train_loss = 1.134\n",
      "Epoch  24 Batch   34/134   train_loss = 1.094\n",
      "Epoch  24 Batch   84/134   train_loss = 1.197\n",
      "Epoch  25 Batch    0/134   train_loss = 1.049\n",
      "Epoch  25 Batch   50/134   train_loss = 1.126\n",
      "Epoch  25 Batch  100/134   train_loss = 0.890\n",
      "Epoch  26 Batch   16/134   train_loss = 0.983\n",
      "Epoch  26 Batch   66/134   train_loss = 1.171\n",
      "Epoch  26 Batch  116/134   train_loss = 1.092\n",
      "Epoch  27 Batch   32/134   train_loss = 1.134\n",
      "Epoch  27 Batch   82/134   train_loss = 1.187\n",
      "Epoch  27 Batch  132/134   train_loss = 1.104\n",
      "Epoch  28 Batch   48/134   train_loss = 1.076\n",
      "Epoch  28 Batch   98/134   train_loss = 0.952\n",
      "Epoch  29 Batch   14/134   train_loss = 1.051\n",
      "Epoch  29 Batch   64/134   train_loss = 0.884\n",
      "Epoch  29 Batch  114/134   train_loss = 1.048\n",
      "Epoch  30 Batch   30/134   train_loss = 0.968\n",
      "Epoch  30 Batch   80/134   train_loss = 1.028\n",
      "Epoch  30 Batch  130/134   train_loss = 0.801\n",
      "Epoch  31 Batch   46/134   train_loss = 0.827\n",
      "Epoch  31 Batch   96/134   train_loss = 0.904\n",
      "Epoch  32 Batch   12/134   train_loss = 0.850\n",
      "Epoch  32 Batch   62/134   train_loss = 0.765\n",
      "Epoch  32 Batch  112/134   train_loss = 0.769\n",
      "Epoch  33 Batch   28/134   train_loss = 0.848\n",
      "Epoch  33 Batch   78/134   train_loss = 0.962\n",
      "Epoch  33 Batch  128/134   train_loss = 0.863\n",
      "Epoch  34 Batch   44/134   train_loss = 0.638\n",
      "Epoch  34 Batch   94/134   train_loss = 0.787\n",
      "Epoch  35 Batch   10/134   train_loss = 0.771\n",
      "Epoch  35 Batch   60/134   train_loss = 0.854\n",
      "Epoch  35 Batch  110/134   train_loss = 0.754\n",
      "Epoch  36 Batch   26/134   train_loss = 0.909\n",
      "Epoch  36 Batch   76/134   train_loss = 0.923\n",
      "Epoch  36 Batch  126/134   train_loss = 0.901\n",
      "Epoch  37 Batch   42/134   train_loss = 0.729\n",
      "Epoch  37 Batch   92/134   train_loss = 0.864\n",
      "Epoch  38 Batch    8/134   train_loss = 0.909\n",
      "Epoch  38 Batch   58/134   train_loss = 0.777\n",
      "Epoch  38 Batch  108/134   train_loss = 0.971\n",
      "Epoch  39 Batch   24/134   train_loss = 0.993\n",
      "Epoch  39 Batch   74/134   train_loss = 0.978\n",
      "Epoch  39 Batch  124/134   train_loss = 0.859\n",
      "Epoch  40 Batch   40/134   train_loss = 0.921\n",
      "Epoch  40 Batch   90/134   train_loss = 0.923\n",
      "Epoch  41 Batch    6/134   train_loss = 0.991\n",
      "Epoch  41 Batch   56/134   train_loss = 0.950\n",
      "Epoch  41 Batch  106/134   train_loss = 1.078\n",
      "Epoch  42 Batch   22/134   train_loss = 0.999\n",
      "Epoch  42 Batch   72/134   train_loss = 0.968\n",
      "Epoch  42 Batch  122/134   train_loss = 0.890\n",
      "Epoch  43 Batch   38/134   train_loss = 0.903\n",
      "Epoch  43 Batch   88/134   train_loss = 0.927\n",
      "Epoch  44 Batch    4/134   train_loss = 0.844\n",
      "Epoch  44 Batch   54/134   train_loss = 0.798\n",
      "Epoch  44 Batch  104/134   train_loss = 0.840\n",
      "Epoch  45 Batch   20/134   train_loss = 0.894\n",
      "Epoch  45 Batch   70/134   train_loss = 0.931\n",
      "Epoch  45 Batch  120/134   train_loss = 0.860\n",
      "Epoch  46 Batch   36/134   train_loss = 0.710\n",
      "Epoch  46 Batch   86/134   train_loss = 0.750\n",
      "Epoch  47 Batch    2/134   train_loss = 0.757\n",
      "Epoch  47 Batch   52/134   train_loss = 0.777\n",
      "Epoch  47 Batch  102/134   train_loss = 0.825\n",
      "Epoch  48 Batch   18/134   train_loss = 0.751\n",
      "Epoch  48 Batch   68/134   train_loss = 0.814\n",
      "Epoch  48 Batch  118/134   train_loss = 0.815\n",
      "Epoch  49 Batch   34/134   train_loss = 0.726\n",
      "Epoch  49 Batch   84/134   train_loss = 0.919\n",
      "Epoch  50 Batch    0/134   train_loss = 0.751\n",
      "Epoch  50 Batch   50/134   train_loss = 0.804\n",
      "Epoch  50 Batch  100/134   train_loss = 0.615\n",
      "Epoch  51 Batch   16/134   train_loss = 0.692\n",
      "Epoch  51 Batch   66/134   train_loss = 0.783\n",
      "Epoch  51 Batch  116/134   train_loss = 0.744\n",
      "Epoch  52 Batch   32/134   train_loss = 0.771\n",
      "Epoch  52 Batch   82/134   train_loss = 0.825\n",
      "Epoch  52 Batch  132/134   train_loss = 0.742\n",
      "Epoch  53 Batch   48/134   train_loss = 0.844\n",
      "Epoch  53 Batch   98/134   train_loss = 0.720\n",
      "Epoch  54 Batch   14/134   train_loss = 0.721\n",
      "Epoch  54 Batch   64/134   train_loss = 0.761\n",
      "Epoch  54 Batch  114/134   train_loss = 0.830\n",
      "Epoch  55 Batch   30/134   train_loss = 0.835\n",
      "Epoch  55 Batch   80/134   train_loss = 0.887\n",
      "Epoch  55 Batch  130/134   train_loss = 0.781\n",
      "Epoch  56 Batch   46/134   train_loss = 0.829\n",
      "Epoch  56 Batch   96/134   train_loss = 0.952\n",
      "Epoch  57 Batch   12/134   train_loss = 0.840\n",
      "Epoch  57 Batch   62/134   train_loss = 0.758\n",
      "Epoch  57 Batch  112/134   train_loss = 0.894\n",
      "Epoch  58 Batch   28/134   train_loss = 0.858\n",
      "Epoch  58 Batch   78/134   train_loss = 0.843\n",
      "Epoch  58 Batch  128/134   train_loss = 0.890\n",
      "Epoch  59 Batch   44/134   train_loss = 0.842\n",
      "Epoch  59 Batch   94/134   train_loss = 0.820\n",
      "Epoch  60 Batch   10/134   train_loss = 0.885\n",
      "Epoch  60 Batch   60/134   train_loss = 0.825\n",
      "Epoch  60 Batch  110/134   train_loss = 0.794\n",
      "Epoch  61 Batch   26/134   train_loss = 0.900\n",
      "Epoch  61 Batch   76/134   train_loss = 0.950\n",
      "Epoch  61 Batch  126/134   train_loss = 0.936\n",
      "Epoch  62 Batch   42/134   train_loss = 0.736\n",
      "Epoch  62 Batch   92/134   train_loss = 0.873\n",
      "Epoch  63 Batch    8/134   train_loss = 0.854\n",
      "Epoch  63 Batch   58/134   train_loss = 0.785\n",
      "Epoch  63 Batch  108/134   train_loss = 0.858\n",
      "Epoch  64 Batch   24/134   train_loss = 0.935\n",
      "Epoch  64 Batch   74/134   train_loss = 0.759\n",
      "Epoch  64 Batch  124/134   train_loss = 0.707\n",
      "Epoch  65 Batch   40/134   train_loss = 0.748\n",
      "Epoch  65 Batch   90/134   train_loss = 0.860\n",
      "Epoch  66 Batch    6/134   train_loss = 0.811\n",
      "Epoch  66 Batch   56/134   train_loss = 0.690\n",
      "Epoch  66 Batch  106/134   train_loss = 0.752\n",
      "Epoch  67 Batch   22/134   train_loss = 0.867\n",
      "Epoch  67 Batch   72/134   train_loss = 0.656\n",
      "Epoch  67 Batch  122/134   train_loss = 0.632\n",
      "Epoch  68 Batch   38/134   train_loss = 0.641\n",
      "Epoch  68 Batch   88/134   train_loss = 0.727\n",
      "Epoch  69 Batch    4/134   train_loss = 0.751\n",
      "Epoch  69 Batch   54/134   train_loss = 0.622\n",
      "Epoch  69 Batch  104/134   train_loss = 0.583\n",
      "Epoch  70 Batch   20/134   train_loss = 0.700\n",
      "Epoch  70 Batch   70/134   train_loss = 0.779\n",
      "Epoch  70 Batch  120/134   train_loss = 0.659\n",
      "Epoch  71 Batch   36/134   train_loss = 0.681\n",
      "Epoch  71 Batch   86/134   train_loss = 0.701\n",
      "Epoch  72 Batch    2/134   train_loss = 0.614\n",
      "Epoch  72 Batch   52/134   train_loss = 0.630\n",
      "Epoch  72 Batch  102/134   train_loss = 0.695\n",
      "Epoch  73 Batch   18/134   train_loss = 0.662\n",
      "Epoch  73 Batch   68/134   train_loss = 0.682\n",
      "Epoch  73 Batch  118/134   train_loss = 0.830\n",
      "Epoch  74 Batch   34/134   train_loss = 0.691\n",
      "Epoch  74 Batch   84/134   train_loss = 0.907\n",
      "Epoch  75 Batch    0/134   train_loss = 0.845\n",
      "Epoch  75 Batch   50/134   train_loss = 0.901\n",
      "Epoch  75 Batch  100/134   train_loss = 0.743\n",
      "Epoch  76 Batch   16/134   train_loss = 0.814\n",
      "Epoch  76 Batch   66/134   train_loss = 0.982\n",
      "Epoch  76 Batch  116/134   train_loss = 0.830\n",
      "Epoch  77 Batch   32/134   train_loss = 0.924\n",
      "Epoch  77 Batch   82/134   train_loss = 1.001\n",
      "Epoch  77 Batch  132/134   train_loss = 1.047\n",
      "Epoch  78 Batch   48/134   train_loss = 1.053\n",
      "Epoch  78 Batch   98/134   train_loss = 0.883\n",
      "Epoch  79 Batch   14/134   train_loss = 0.895\n",
      "Epoch  79 Batch   64/134   train_loss = 0.915\n",
      "Epoch  79 Batch  114/134   train_loss = 0.896\n",
      "Epoch  80 Batch   30/134   train_loss = 0.913\n",
      "Epoch  80 Batch   80/134   train_loss = 0.933\n",
      "Epoch  80 Batch  130/134   train_loss = 0.906\n",
      "Epoch  81 Batch   46/134   train_loss = 0.845\n",
      "Epoch  81 Batch   96/134   train_loss = 0.955\n",
      "Epoch  82 Batch   12/134   train_loss = 0.883\n",
      "Epoch  82 Batch   62/134   train_loss = 0.776\n",
      "Epoch  82 Batch  112/134   train_loss = 0.779\n",
      "Epoch  83 Batch   28/134   train_loss = 0.766\n",
      "Epoch  83 Batch   78/134   train_loss = 0.854\n",
      "Epoch  83 Batch  128/134   train_loss = 0.762\n",
      "Epoch  84 Batch   44/134   train_loss = 0.619\n",
      "Epoch  84 Batch   94/134   train_loss = 0.649\n",
      "Epoch  85 Batch   10/134   train_loss = 0.733\n",
      "Epoch  85 Batch   60/134   train_loss = 0.664\n",
      "Epoch  85 Batch  110/134   train_loss = 0.627\n",
      "Epoch  86 Batch   26/134   train_loss = 0.748\n",
      "Epoch  86 Batch   76/134   train_loss = 0.727\n",
      "Epoch  86 Batch  126/134   train_loss = 0.736\n",
      "Epoch  87 Batch   42/134   train_loss = 0.567\n",
      "Epoch  87 Batch   92/134   train_loss = 0.671\n",
      "Epoch  88 Batch    8/134   train_loss = 0.713\n",
      "Epoch  88 Batch   58/134   train_loss = 0.571\n",
      "Epoch  88 Batch  108/134   train_loss = 0.664\n",
      "Epoch  89 Batch   24/134   train_loss = 0.702\n",
      "Epoch  89 Batch   74/134   train_loss = 0.680\n",
      "Epoch  89 Batch  124/134   train_loss = 0.575\n",
      "Epoch  90 Batch   40/134   train_loss = 0.620\n",
      "Epoch  90 Batch   90/134   train_loss = 0.691\n",
      "Epoch  91 Batch    6/134   train_loss = 0.574\n",
      "Epoch  91 Batch   56/134   train_loss = 0.558\n",
      "Epoch  91 Batch  106/134   train_loss = 0.612\n",
      "Epoch  92 Batch   22/134   train_loss = 0.701\n",
      "Epoch  92 Batch   72/134   train_loss = 0.623\n",
      "Epoch  92 Batch  122/134   train_loss = 0.604\n",
      "Epoch  93 Batch   38/134   train_loss = 0.605\n",
      "Epoch  93 Batch   88/134   train_loss = 0.666\n",
      "Epoch  94 Batch    4/134   train_loss = 0.702\n",
      "Epoch  94 Batch   54/134   train_loss = 0.597\n",
      "Epoch  94 Batch  104/134   train_loss = 0.711\n",
      "Epoch  95 Batch   20/134   train_loss = 0.831\n",
      "Epoch  95 Batch   70/134   train_loss = 0.898\n",
      "Epoch  95 Batch  120/134   train_loss = 0.905\n",
      "Epoch  96 Batch   36/134   train_loss = 0.787\n",
      "Epoch  96 Batch   86/134   train_loss = 0.899\n",
      "Epoch  97 Batch    2/134   train_loss = 0.900\n",
      "Epoch  97 Batch   52/134   train_loss = 0.855\n",
      "Epoch  97 Batch  102/134   train_loss = 0.930\n",
      "Epoch  98 Batch   18/134   train_loss = 1.001\n",
      "Epoch  98 Batch   68/134   train_loss = 0.971\n",
      "Epoch  98 Batch  118/134   train_loss = 1.083\n",
      "Epoch  99 Batch   34/134   train_loss = 0.990\n",
      "Epoch  99 Batch   84/134   train_loss = 1.024\n",
      "Model Trained and Saved\n"
     ]
    }
   ],
   "source": [
    "\"\"\"\n",
    "DON'T MODIFY ANYTHING IN THIS CELL\n",
    "\"\"\"\n",
    "batches = get_batches(int_text, batch_size, seq_length)\n",
    "\n",
    "with tf.Session(graph=train_graph) as sess:\n",
    "    sess.run(tf.global_variables_initializer())\n",
    "\n",
    "    for epoch_i in range(num_epochs):\n",
    "        state = sess.run(initial_state, {input_text: batches[0][0]})\n",
    "\n",
    "        for batch_i, (x, y) in enumerate(batches):\n",
    "            feed = {\n",
    "                input_text: x,\n",
    "                targets: y,\n",
    "                initial_state: state,\n",
    "                lr: learning_rate}\n",
    "            train_loss, state, _ = sess.run([cost, final_state, train_op], feed)\n",
    "\n",
    "            # Show every <show_every_n_batches> batches\n",
    "            if (epoch_i * len(batches) + batch_i) % show_every_n_batches == 0:\n",
    "                print('Epoch {:>3} Batch {:>4}/{}   train_loss = {:.3f}'.format(\n",
    "                    epoch_i,\n",
    "                    batch_i,\n",
    "                    len(batches),\n",
    "                    train_loss))\n",
    "\n",
    "    # Save Model\n",
    "    saver = tf.train.Saver()\n",
    "    saver.save(sess, save_dir)\n",
    "    print('Model Trained and Saved')"
   ]
  },
  {
   "cell_type": "markdown",
   "metadata": {
    "deletable": true,
    "editable": true
   },
   "source": [
    "## Save Parameters\n",
    "Save `seq_length` and `save_dir` for generating a new TV script."
   ]
  },
  {
   "cell_type": "code",
   "execution_count": 168,
   "metadata": {
    "collapsed": false,
    "deletable": true,
    "editable": true
   },
   "outputs": [],
   "source": [
    "\"\"\"\n",
    "DON'T MODIFY ANYTHING IN THIS CELL\n",
    "\"\"\"\n",
    "# Save parameters for checkpoint\n",
    "helper.save_params((seq_length, save_dir))"
   ]
  },
  {
   "cell_type": "markdown",
   "metadata": {
    "deletable": true,
    "editable": true
   },
   "source": [
    "# Checkpoint"
   ]
  },
  {
   "cell_type": "code",
   "execution_count": 169,
   "metadata": {
    "collapsed": false,
    "deletable": true,
    "editable": true
   },
   "outputs": [],
   "source": [
    "\"\"\"\n",
    "DON'T MODIFY ANYTHING IN THIS CELL\n",
    "\"\"\"\n",
    "import tensorflow as tf\n",
    "import numpy as np\n",
    "import helper\n",
    "import problem_unittests as tests\n",
    "\n",
    "_, vocab_to_int, int_to_vocab, token_dict = helper.load_preprocess()\n",
    "seq_length, load_dir = helper.load_params()"
   ]
  },
  {
   "cell_type": "markdown",
   "metadata": {
    "deletable": true,
    "editable": true
   },
   "source": [
    "## Implement Generate Functions\n",
    "### Get Tensors\n",
    "Get tensors from `loaded_graph` using the function [`get_tensor_by_name()`](https://www.tensorflow.org/api_docs/python/tf/Graph#get_tensor_by_name).  Get the tensors using the following names:\n",
    "- \"input:0\"\n",
    "- \"initial_state:0\"\n",
    "- \"final_state:0\"\n",
    "- \"probs:0\"\n",
    "\n",
    "Return the tensors in the following tuple `(InputTensor, InitialStateTensor, FinalStateTensor, ProbsTensor)` "
   ]
  },
  {
   "cell_type": "code",
   "execution_count": 170,
   "metadata": {
    "collapsed": false,
    "deletable": true,
    "editable": true
   },
   "outputs": [
    {
     "name": "stdout",
     "output_type": "stream",
     "text": [
      "Tests Passed\n"
     ]
    }
   ],
   "source": [
    "def get_tensors(loaded_graph):\n",
    "    \"\"\"\n",
    "    Get input, initial state, final state, and probabilities tensor from <loaded_graph>\n",
    "    :param loaded_graph: TensorFlow graph loaded from file\n",
    "    :return: Tuple (InputTensor, InitialStateTensor, FinalStateTensor, ProbsTensor)\n",
    "    \"\"\"\n",
    "    # TODO: Implement Function\n",
    "    return (loaded_graph.get_tensor_by_name(\"input:0\"),\n",
    "            loaded_graph.get_tensor_by_name(\"initial_state:0\"),\n",
    "            loaded_graph.get_tensor_by_name(\"final_state:0\"),\n",
    "            loaded_graph.get_tensor_by_name(\"probs:0\"))\n",
    "\n",
    "\n",
    "\"\"\"\n",
    "DON'T MODIFY ANYTHING IN THIS CELL THAT IS BELOW THIS LINE\n",
    "\"\"\"\n",
    "tests.test_get_tensors(get_tensors)"
   ]
  },
  {
   "cell_type": "markdown",
   "metadata": {
    "deletable": true,
    "editable": true
   },
   "source": [
    "### Choose Word\n",
    "Implement the `pick_word()` function to select the next word using `probabilities`."
   ]
  },
  {
   "cell_type": "code",
   "execution_count": 171,
   "metadata": {
    "collapsed": false,
    "deletable": true,
    "editable": true
   },
   "outputs": [
    {
     "name": "stdout",
     "output_type": "stream",
     "text": [
      "Tests Passed\n"
     ]
    }
   ],
   "source": [
    "def pick_word(probabilities, int_to_vocab):\n",
    "    \"\"\"\n",
    "    Pick the next word in the generated text\n",
    "    :param probabilities: Probabilites of the next word\n",
    "    :param int_to_vocab: Dictionary of word ids as the keys and words as the values\n",
    "    :return: String of the predicted word\n",
    "    \"\"\"\n",
    "    # TODO: Implement Function\n",
    "    return str(np.random.choice( list(int_to_vocab.values()), p=probabilities ) )\n",
    "\n",
    "\n",
    "\"\"\"\n",
    "DON'T MODIFY ANYTHING IN THIS CELL THAT IS BELOW THIS LINE\n",
    "\"\"\"\n",
    "tests.test_pick_word(pick_word)"
   ]
  },
  {
   "cell_type": "markdown",
   "metadata": {
    "deletable": true,
    "editable": true
   },
   "source": [
    "## Generate TV Script\n",
    "This will generate the TV script for you.  Set `gen_length` to the length of TV script you want to generate."
   ]
  },
  {
   "cell_type": "code",
   "execution_count": 173,
   "metadata": {
    "collapsed": false,
    "deletable": true,
    "editable": true
   },
   "outputs": [
    {
     "name": "stdout",
     "output_type": "stream",
     "text": [
      "moe_szyslak:(moan) aw, who are all you can send a secret? you're not like sloppy drunk.\n",
      "moe_szyslak: well, that's what about you, lenny.\n",
      "homer_simpson:(sarcastic) oh, god! i can help you outta your people, hoping to be a planet for me about my night. the ol' eye-gouger in terrible.\n",
      "chief!\n",
      "chief_wiggum:(reading)\"\"(\" we're thumb)\n",
      "moe_szyslak: yeah, that's great there.\n",
      "\n",
      "\n",
      "moe_szyslak: yeah, yeah, come on, homer. i need someone to me.\n",
      "ken: the little chick? don't be afraid? am i right?\n",
      "bart_simpson: just the eyes to break into a girl again, moe?\n",
      "homer_simpson: all right, moe. hey, how did you find it on a lot of courage to wear suspenders when you're not for even someone is well go, i know. what's this stuff! you're a crab for moe. i think he'll do still pity.(realizing)\n",
      "moe_szyslak: oh, my little man. have you\n"
     ]
    }
   ],
   "source": [
    "gen_length = 200\n",
    "# homer_simpson, moe_szyslak, or Barney_Gumble\n",
    "prime_word = 'moe_szyslak'\n",
    "\n",
    "\"\"\"\n",
    "DON'T MODIFY ANYTHING IN THIS CELL THAT IS BELOW THIS LINE\n",
    "\"\"\"\n",
    "loaded_graph = tf.Graph()\n",
    "with tf.Session(graph=loaded_graph) as sess:\n",
    "    # Load saved model\n",
    "    loader = tf.train.import_meta_graph(load_dir + '.meta')\n",
    "    loader.restore(sess, load_dir)\n",
    "\n",
    "    # Get Tensors from loaded model\n",
    "    input_text, initial_state, final_state, probs = get_tensors(loaded_graph)\n",
    "\n",
    "    # Sentences generation setup\n",
    "    gen_sentences = [prime_word + ':']\n",
    "    prev_state = sess.run(initial_state, {input_text: np.array([[1]])})\n",
    "\n",
    "    # Generate sentences\n",
    "    for n in range(gen_length):\n",
    "        # Dynamic Input\n",
    "        dyn_input = [[vocab_to_int[word] for word in gen_sentences[-seq_length:]]]\n",
    "        dyn_seq_length = len(dyn_input[0])\n",
    "\n",
    "        # Get Prediction\n",
    "        probabilities, prev_state = sess.run(\n",
    "            [probs, final_state],\n",
    "            {input_text: dyn_input, initial_state: prev_state})\n",
    "        \n",
    "        pred_word = pick_word(probabilities[dyn_seq_length-1], int_to_vocab)\n",
    "\n",
    "        gen_sentences.append(pred_word)\n",
    "    \n",
    "    # Remove tokens\n",
    "    tv_script = ' '.join(gen_sentences)\n",
    "    for key, token in token_dict.items():\n",
    "        ending = ' ' if key in ['\\n', '(', '\"'] else ''\n",
    "        tv_script = tv_script.replace(' ' + token.lower(), key)\n",
    "    tv_script = tv_script.replace('\\n ', '\\n')\n",
    "    tv_script = tv_script.replace('( ', '(')\n",
    "        \n",
    "    print(tv_script)"
   ]
  },
  {
   "cell_type": "markdown",
   "metadata": {
    "deletable": true,
    "editable": true
   },
   "source": [
    "# The TV Script is Nonsensical\n",
    "It's ok if the TV script doesn't make any sense.  We trained on less than a megabyte of text.  In order to get good results, you'll have to use a smaller vocabulary or get more data.  Luckly there's more data!  As we mentioned in the begging of this project, this is a subset of [another dataset](https://www.kaggle.com/wcukierski/the-simpsons-by-the-data).  We didn't have you train on all the data, because that would take too long.  However, you are free to train your neural network on all the data.  After you complete the project, of course.\n",
    "# Submitting This Project\n",
    "When submitting this project, make sure to run all the cells before saving the notebook. Save the notebook file as \"dlnd_tv_script_generation.ipynb\" and save it as a HTML file under \"File\" -> \"Download as\". Include the \"helper.py\" and \"problem_unittests.py\" files in your submission."
   ]
  }
 ],
 "metadata": {
  "kernelspec": {
   "display_name": "Python 3",
   "language": "python",
   "name": "python3"
  },
  "language_info": {
   "codemirror_mode": {
    "name": "ipython",
    "version": 3
   },
   "file_extension": ".py",
   "mimetype": "text/x-python",
   "name": "python",
   "nbconvert_exporter": "python",
   "pygments_lexer": "ipython3",
   "version": "3.5.0"
  },
  "widgets": {
   "state": {},
   "version": "1.1.2"
  }
 },
 "nbformat": 4,
 "nbformat_minor": 0
}
